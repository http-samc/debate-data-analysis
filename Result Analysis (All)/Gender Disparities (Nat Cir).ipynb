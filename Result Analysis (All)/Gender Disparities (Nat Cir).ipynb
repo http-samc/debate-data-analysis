{
 "cells": [
  {
   "cell_type": "markdown",
   "metadata": {},
   "source": [
    "# National Circuit Public Forum Gender Bias (2020-2021 Season)\n",
    "*by Samarth Chitgopekar, github: http-samc*"
   ]
  },
  {
   "cell_type": "markdown",
   "metadata": {},
   "source": [
    "## Start off by importing our dependencies: plotly (for graphs), json (to read our compiled data), and nltk (analyze gender)"
   ]
  },
  {
   "cell_type": "code",
   "execution_count": 1,
   "metadata": {},
   "outputs": [],
   "source": [
    "import json\n",
    "import numpy as np\n",
    "from plotly.offline import download_plotlyjs, init_notebook_mode, plot, iplot\n",
    "import plotly.graph_objs as go\n",
    "import random\n",
    "import nltk\n",
    "from nltk.corpus import names"
   ]
  },
  {
   "cell_type": "markdown",
   "metadata": {},
   "source": [
    "## Jupyter Setup"
   ]
  },
  {
   "cell_type": "code",
   "execution_count": 2,
   "metadata": {},
   "outputs": [
    {
     "data": {
      "text/html": [
       "        <script type=\"text/javascript\">\n",
       "        window.PlotlyConfig = {MathJaxConfig: 'local'};\n",
       "        if (window.MathJax) {MathJax.Hub.Config({SVG: {font: \"STIX-Web\"}});}\n",
       "        if (typeof require !== 'undefined') {\n",
       "        require.undef(\"plotly\");\n",
       "        requirejs.config({\n",
       "            paths: {\n",
       "                'plotly': ['https://cdn.plot.ly/plotly-2.6.3.min']\n",
       "            }\n",
       "        });\n",
       "        require(['plotly'], function(Plotly) {\n",
       "            window._Plotly = Plotly;\n",
       "        });\n",
       "        }\n",
       "        </script>\n",
       "        "
      ]
     },
     "metadata": {},
     "output_type": "display_data"
    }
   ],
   "source": [
    "init_notebook_mode(connected=True)"
   ]
  },
  {
   "cell_type": "markdown",
   "metadata": {},
   "source": [
    "## Read our data from `../data/2020-21 MASTER.json` into an in-memory dictionary"
   ]
  },
  {
   "cell_type": "code",
   "execution_count": 3,
   "metadata": {},
   "outputs": [],
   "source": [
    "with open(\"../data/2020-21 MASTER.json\", 'r') as f:\n",
    "    data = json.loads(f.read())"
   ]
  },
  {
   "cell_type": "markdown",
   "metadata": {},
   "source": [
    "## Train NLTK"
   ]
  },
  {
   "cell_type": "code",
   "execution_count": 4,
   "metadata": {},
   "outputs": [
    {
     "data": {
      "text/plain": [
       "'Classification Accuracy with known dataset of 76.222%'"
      ]
     },
     "execution_count": 4,
     "metadata": {},
     "output_type": "execute_result"
    }
   ],
   "source": [
    "MALE: str = \"MALE\"\n",
    "FEMALE: str = \"FEMALE\"\n",
    "\n",
    "def gender_features(word):\n",
    "    return {'last_letter':word[-1]}\n",
    "\n",
    "labeled_names = ([(name, MALE) for name in names.words('male.txt')]+\n",
    "             [(name, FEMALE) for name in names.words('female.txt')])\n",
    "\n",
    "random.shuffle(labeled_names)\n",
    "\n",
    "featuresets = [(gender_features(n), gender)\n",
    "               for (n, gender)in labeled_names]\n",
    "\n",
    "train_set, test_set = featuresets[500:], featuresets[:500]\n",
    "\n",
    "classifier = nltk.NaiveBayesClassifier.train(train_set)\n",
    "\n",
    "f\"Classification Accuracy with known dataset of {round(nltk.classify.accuracy(classifier, train_set)*100, 3)}%\""
   ]
  },
  {
   "cell_type": "markdown",
   "metadata": {},
   "source": [
    "## Define a function to classify individuals as male or female"
   ]
  },
  {
   "cell_type": "code",
   "execution_count": 5,
   "metadata": {},
   "outputs": [],
   "source": [
    "def classifyGender(name: str) -> str:\n",
    "    \"\"\"Uses trained dataset ( > 70% acc. ) to classify an input name\n",
    "    as either male or female.\n",
    "\n",
    "    Args:\n",
    "        name (str): the first name to test\n",
    "\n",
    "    Returns:\n",
    "        str: either the constants MALE or FEMALE\n",
    "    \"\"\"\n",
    "\n",
    "    return classifier.classify(gender_features(name))"
   ]
  },
  {
   "cell_type": "markdown",
   "metadata": {},
   "source": [
    "## Create our independent data (gender) and dependent data (adj. avg speaker points)"
   ]
  },
  {
   "cell_type": "code",
   "execution_count": 6,
   "metadata": {},
   "outputs": [],
   "source": [
    "independentDataList_M: list = []\n",
    "dependentDataList_M: list = []\n",
    "\n",
    "independentDataList_F: list = []\n",
    "dependentDataList_F: list = []\n",
    "\n",
    "for team in data.values():\n",
    "\n",
    "    otrScore = team[\"otrScore\"]\n",
    "\n",
    "    speaker1 = None\n",
    "    speaker2 = None\n",
    "\n",
    "    speaker1Scores = []\n",
    "    speaker2Scores = []\n",
    "\n",
    "    for tournament in team[\"tournaments\"]:\n",
    "        for speaker in tournament[\"speaks\"]:\n",
    "\n",
    "            adjAvg = speaker[\"adjAVG\"]\n",
    "            name = speaker[\"name\"]\n",
    "\n",
    "            if not adjAvg or not name: continue\n",
    "\n",
    "            name = name.split(' ')[0]\n",
    "\n",
    "            if not speaker1:\n",
    "                speaker1 = name\n",
    "\n",
    "            if not speaker2:\n",
    "                speaker2 = name\n",
    "\n",
    "            if name == speaker1:\n",
    "                speaker1Scores.append(adjAvg)\n",
    "            else:\n",
    "                speaker2Scores.append(adjAvg)\n",
    "\n",
    "    if not len(speaker1Scores) or not len(speaker2Scores): continue\n",
    "\n",
    "    speaker1Avg = sum(speaker1Scores)/len(speaker1Scores)\n",
    "    speaker2Avg = sum(speaker2Scores)/len(speaker2Scores)\n",
    "\n",
    "    for speaker, score in [[speaker1, speaker1Avg], [speaker2, speaker2Avg]]:\n",
    "        if classifyGender(speaker) == MALE:\n",
    "            independentDataList_M.append('Male')\n",
    "            dependentDataList_M.append(score)\n",
    "\n",
    "        else:\n",
    "            independentDataList_F.append('Female')\n",
    "            dependentDataList_F.append(score)"
   ]
  },
  {
   "cell_type": "markdown",
   "metadata": {},
   "source": [
    "## Find our averages"
   ]
  },
  {
   "cell_type": "code",
   "execution_count": 7,
   "metadata": {},
   "outputs": [],
   "source": [
    "scoresM = np.array(dependentDataList_M)\n",
    "scoresF = np.array(dependentDataList_F)\n",
    "\n",
    "m_1 = np.percentile(scoresM, 1)\n",
    "f_1 = np.percentile(scoresF, 1)\n",
    "\n",
    "m_25 = np.percentile(scoresM, 25)\n",
    "f_25 = np.percentile(scoresF, 25)\n",
    "\n",
    "m_50 = np.percentile(scoresM, 50)\n",
    "f_50 = np.percentile(scoresF, 50)\n",
    "\n",
    "m_75 = np.percentile(scoresM, 75)\n",
    "f_75 = np.percentile(scoresF, 75)\n",
    "\n",
    "m_99 = np.percentile(scoresM, 99)\n",
    "f_99 = np.percentile(scoresF, 99)\n",
    "\n",
    "delta = {}\n",
    "for i in range(1, 100):\n",
    "    delta[i] = np.percentile(scoresM, i) - np.percentile(scoresF, i)\n",
    "\n",
    "delta = dict(sorted(delta.items(), key=lambda item: item[1]))"
   ]
  },
  {
   "cell_type": "markdown",
   "metadata": {},
   "source": [
    "## Create our scatter plot with Plotly"
   ]
  },
  {
   "cell_type": "code",
   "execution_count": 8,
   "metadata": {},
   "outputs": [],
   "source": [
    "layout = go.Layout(\n",
    "    title = \"Gender vs. Average Adjusted Speaker Points: 2020-21 VPF National Circuit\",\n",
    "    xaxis = {\"title\": \"OTR Score\"},\n",
    "    yaxis = {\"title\": \"Average Adjusted Speaker Points\"},\n",
    ")\n",
    "\n",
    "fig = go.Figure(layout=layout)\n",
    "\n",
    "fig.add_trace(go.Scatter(\n",
    "    x = independentDataList_M,\n",
    "    y = dependentDataList_M,\n",
    "    mode = 'markers',\n",
    "    name = \"Competing Male Team\"\n",
    "));\n",
    "\n",
    "fig.add_trace(go.Scatter(\n",
    "    x = independentDataList_F,\n",
    "    y = dependentDataList_F,\n",
    "    mode = 'markers',\n",
    "    name = \"Competing Female Team\"\n",
    "));"
   ]
  },
  {
   "cell_type": "markdown",
   "metadata": {},
   "source": [
    "## Add in average percentile points"
   ]
  },
  {
   "cell_type": "code",
   "execution_count": null,
   "metadata": {},
   "outputs": [],
   "source": []
  },
  {
   "cell_type": "code",
   "execution_count": 9,
   "metadata": {},
   "outputs": [],
   "source": [
    "fig.add_trace(go.Scatter(\n",
    "    x = ['Male'],\n",
    "    y = [m_1],\n",
    "    mode = 'markers',\n",
    "    name = f\"Male 1 pct. Adj. Speaker Points ({round(m_1, 3)})\",\n",
    "    marker=dict(\n",
    "        color='LightSkyBlue',\n",
    "        size=10,\n",
    "        line=dict(\n",
    "            color='MediumPurple',\n",
    "            width=2\n",
    "        )\n",
    "    )\n",
    "))\n",
    "\n",
    "fig.add_trace(go.Scatter(\n",
    "    x = ['Female'],\n",
    "    y = [f_1],\n",
    "    mode = 'markers',\n",
    "    name = f\"Female 1 pct. Adj. Speaker Points ({round(f_1, 3)})\",\n",
    "    marker=dict(\n",
    "        color='Cyan',\n",
    "        size=10,\n",
    "        line=dict(\n",
    "            color='Green',\n",
    "            width=2\n",
    "        )\n",
    "    )\n",
    "))\n",
    "\n",
    "fig.add_trace(go.Scatter(\n",
    "    x = ['Male'],\n",
    "    y = [m_25],\n",
    "    mode = 'markers',\n",
    "    name = f\"Male 25 pct. Adj. Speaker Points ({round(m_25, 3)})\",\n",
    "    marker=dict(\n",
    "        color='LightSkyBlue',\n",
    "        size=10,\n",
    "        line=dict(\n",
    "            color='MediumPurple',\n",
    "            width=2\n",
    "        )\n",
    "    )\n",
    "))\n",
    "\n",
    "fig.add_trace(go.Scatter(\n",
    "    x = ['Female'],\n",
    "    y = [f_25],\n",
    "    mode = 'markers',\n",
    "    name = f\"Female 25 pct. Adj. Speaker Points ({round(f_25, 3)})\",\n",
    "    marker=dict(\n",
    "        color='Cyan',\n",
    "        size=10,\n",
    "        line=dict(\n",
    "            color='Green',\n",
    "            width=2\n",
    "        )\n",
    "    )\n",
    "))\n",
    "\n",
    "fig.add_trace(go.Scatter(\n",
    "    x = ['Male'],\n",
    "    y = [m_50],\n",
    "    mode = 'markers',\n",
    "    name = f\"Male 50 pct. Adj. Speaker Points ({round(m_50, 3)})\",\n",
    "    marker=dict(\n",
    "        color='LightSkyBlue',\n",
    "        size=10,\n",
    "        line=dict(\n",
    "            color='MediumPurple',\n",
    "            width=2\n",
    "        )\n",
    "    )\n",
    "))\n",
    "\n",
    "fig.add_trace(go.Scatter(\n",
    "    x = ['Female'],\n",
    "    y = [f_50],\n",
    "    mode = 'markers',\n",
    "    name = f\"Female 50 pct. Adj. Speaker Points ({round(f_50, 3)})\",\n",
    "    marker=dict(\n",
    "        color='Cyan',\n",
    "        size=10,\n",
    "        line=dict(\n",
    "            color='Green',\n",
    "            width=2\n",
    "        )\n",
    "    )\n",
    "))\n",
    "\n",
    "fig.add_trace(go.Scatter(\n",
    "    x = ['Male'],\n",
    "    y = [m_75],\n",
    "    mode = 'markers',\n",
    "    name = f\"Male 75 pct. Adj. Speaker Points ({round(m_75, 3)})\",\n",
    "    marker=dict(\n",
    "        color='LightSkyBlue',\n",
    "        size=10,\n",
    "        line=dict(\n",
    "            color='MediumPurple',\n",
    "            width=2\n",
    "        )\n",
    "    )\n",
    "))\n",
    "\n",
    "fig.add_trace(go.Scatter(\n",
    "    x = ['Female'],\n",
    "    y = [f_75],\n",
    "    mode = 'markers',\n",
    "    name = f\"Female 75 pct. Adj. Speaker Points ({round(f_75, 3)})\",\n",
    "    marker=dict(\n",
    "        color='Cyan',\n",
    "        size=10,\n",
    "        line=dict(\n",
    "            color='Green',\n",
    "            width=2\n",
    "        )\n",
    "    )\n",
    "))\n",
    "\n",
    "fig.add_trace(go.Scatter(\n",
    "    x = ['Male'],\n",
    "    y = [m_99],\n",
    "    mode = 'markers',\n",
    "    name = f\"Male 95 pct. Adj. Speaker Points ({round(m_99, 3)})\",\n",
    "    marker=dict(\n",
    "        color='LightSkyBlue',\n",
    "        size=10,\n",
    "        line=dict(\n",
    "            color='MediumPurple',\n",
    "            width=2\n",
    "        )\n",
    "    )\n",
    "))\n",
    "\n",
    "fig.add_trace(go.Scatter(\n",
    "    x = ['Female'],\n",
    "    y = [f_99],\n",
    "    mode = 'markers',\n",
    "    name = f\"Female 99 pct. Adj. Speaker Points ({round(f_99, 3)})\",\n",
    "    marker=dict(\n",
    "        color='Cyan',\n",
    "        size=10,\n",
    "        line=dict(\n",
    "            color='Green',\n",
    "            width=2\n",
    "        )\n",
    "    )\n",
    "))\n",
    "\n",
    "fig.write_image(\"1.png\")"
   ]
  }
 ],
 "metadata": {
  "interpreter": {
   "hash": "9749131b6480fea290d6e6f0e19420b4e47c3fb9ced726a0f27a11e9b14a5881"
  },
  "kernelspec": {
   "display_name": "Python 3.8.9 64-bit ('env': venv)",
   "language": "python",
   "name": "python3"
  },
  "language_info": {
   "codemirror_mode": {
    "name": "ipython",
    "version": 3
   },
   "file_extension": ".py",
   "mimetype": "text/x-python",
   "name": "python",
   "nbconvert_exporter": "python",
   "pygments_lexer": "ipython3",
   "version": "3.8.9"
  },
  "orig_nbformat": 4
 },
 "nbformat": 4,
 "nbformat_minor": 2
}
