{
 "cells": [
  {
   "cell_type": "markdown",
   "metadata": {},
   "source": [
    "# Illinois High School State Association Debate Public Forum Gender Bias (2019 & 2021)\n",
    "*by Samarth Chitgopekar, github: http-samc*"
   ]
  },
  {
   "cell_type": "markdown",
   "metadata": {},
   "source": [
    "## Start off by importing our dependencies: plotly (for graphs), json (to read our compiled data), and nltk (analyze gender)"
   ]
  },
  {
   "cell_type": "code",
   "execution_count": 1,
   "metadata": {},
   "outputs": [],
   "source": [
    "import json\n",
    "import numpy as np\n",
    "from plotly.offline import download_plotlyjs, init_notebook_mode, plot, iplot\n",
    "import plotly.graph_objs as go\n",
    "import random\n",
    "import nltk\n",
    "from nltk.corpus import names"
   ]
  },
  {
   "cell_type": "markdown",
   "metadata": {},
   "source": [
    "## Jupyter Setup"
   ]
  },
  {
   "cell_type": "code",
   "execution_count": 2,
   "metadata": {},
   "outputs": [
    {
     "data": {
      "text/html": [
       "        <script type=\"text/javascript\">\n",
       "        window.PlotlyConfig = {MathJaxConfig: 'local'};\n",
       "        if (window.MathJax) {MathJax.Hub.Config({SVG: {font: \"STIX-Web\"}});}\n",
       "        if (typeof require !== 'undefined') {\n",
       "        require.undef(\"plotly\");\n",
       "        requirejs.config({\n",
       "            paths: {\n",
       "                'plotly': ['https://cdn.plot.ly/plotly-2.6.3.min']\n",
       "            }\n",
       "        });\n",
       "        require(['plotly'], function(Plotly) {\n",
       "            window._Plotly = Plotly;\n",
       "        });\n",
       "        }\n",
       "        </script>\n",
       "        "
      ]
     },
     "metadata": {},
     "output_type": "display_data"
    }
   ],
   "source": [
    "init_notebook_mode(connected=True)"
   ]
  },
  {
   "cell_type": "markdown",
   "metadata": {},
   "source": [
    "## Train NLTK"
   ]
  },
  {
   "cell_type": "code",
   "execution_count": 3,
   "metadata": {},
   "outputs": [
    {
     "data": {
      "text/plain": [
       "'Classification Accuracy with known dataset of 76.424%'"
      ]
     },
     "execution_count": 3,
     "metadata": {},
     "output_type": "execute_result"
    }
   ],
   "source": [
    "MALE: str = \"MALE\"\n",
    "FEMALE: str = \"FEMALE\"\n",
    "\n",
    "def gender_features(word):\n",
    "    return {'last_letter':word[-1]}\n",
    "\n",
    "labeled_names = ([(name, MALE) for name in names.words('male.txt')]+\n",
    "             [(name, FEMALE) for name in names.words('female.txt')])\n",
    "\n",
    "random.shuffle(labeled_names)\n",
    "\n",
    "featuresets = [(gender_features(n), gender)\n",
    "               for (n, gender)in labeled_names]\n",
    "\n",
    "train_set, test_set = featuresets[500:], featuresets[:500]\n",
    "\n",
    "classifier = nltk.NaiveBayesClassifier.train(train_set)\n",
    "\n",
    "f\"Classification Accuracy with known dataset of {round(nltk.classify.accuracy(classifier, train_set)*100, 3)}%\""
   ]
  },
  {
   "cell_type": "markdown",
   "metadata": {},
   "source": [
    "## Define a function to classify individuals as male or female"
   ]
  },
  {
   "cell_type": "code",
   "execution_count": 4,
   "metadata": {},
   "outputs": [],
   "source": [
    "def classifyGender(name: str) -> str:\n",
    "    \"\"\"Uses trained dataset ( > 70% acc. ) to classify an input name\n",
    "    as either male or female.\n",
    "\n",
    "    Args:\n",
    "        name (str): the first name to test\n",
    "\n",
    "    Returns:\n",
    "        str: either the constants MALE or FEMALE\n",
    "    \"\"\"\n",
    "\n",
    "    return classifier.classify(gender_features(name))"
   ]
  },
  {
   "cell_type": "markdown",
   "metadata": {},
   "source": [
    "## Read IHSA State Data (2019 & 2021)"
   ]
  },
  {
   "cell_type": "code",
   "execution_count": 5,
   "metadata": {},
   "outputs": [],
   "source": [
    "with open(\"../data/IHSA 2019.json\", \"r\") as f:\n",
    "    data_2019 = json.loads(f.read())\n",
    "\n",
    "with open(\"../data/IHSA 2021.json\", \"r\") as f:\n",
    "    data_2021 = json.loads(f.read())"
   ]
  },
  {
   "cell_type": "markdown",
   "metadata": {},
   "source": [
    "## Defining constants for team makeup"
   ]
  },
  {
   "cell_type": "code",
   "execution_count": 6,
   "metadata": {},
   "outputs": [],
   "source": [
    "MALE = \"mm\"\n",
    "FEMALE = \"ww\"\n",
    "MIXED = \"mw\"\n",
    "\n",
    "MALES = []\n",
    "FEMALES = []\n",
    "MIXEDS = []"
   ]
  },
  {
   "cell_type": "markdown",
   "metadata": {},
   "source": [
    "## Define function that uses our gender classifer and constants to determine the gender makeup of a team"
   ]
  },
  {
   "cell_type": "code",
   "execution_count": 7,
   "metadata": {},
   "outputs": [],
   "source": [
    "def generateGenders(data: dict) -> dict:\n",
    "    for team in data:\n",
    "        name1 = data[team][\"names\"][0].split()[-1]\n",
    "        name2 = data[team][\"names\"][1].split()[-1]\n",
    "\n",
    "        # 0 -> female, 1 -> male\n",
    "        gender1 = 1 if classifyGender(name1) == \"MALE\" else 0\n",
    "        gender2 = 1 if classifyGender(name2) == \"MALE\" else 0\n",
    "\n",
    "        if gender1 == gender2 and gender1 == 1:\n",
    "            genders = MALE\n",
    "        elif gender1 == gender2 and gender2 == 0:\n",
    "            genders = FEMALE\n",
    "        elif gender1 != gender2:\n",
    "            genders = MIXED\n",
    "\n",
    "        data[team][\"genders\"] = genders\n",
    "\n",
    "    return data"
   ]
  },
  {
   "cell_type": "markdown",
   "metadata": {},
   "source": [
    "## Calculates win pct for each team that competed and adds to a specific total based on the gender makeup of the team."
   ]
  },
  {
   "cell_type": "code",
   "execution_count": 8,
   "metadata": {},
   "outputs": [],
   "source": [
    "def analyzeTournaments(data: dict) -> None:\n",
    "    for team in data:\n",
    "        genders = data[team][\"genders\"]\n",
    "\n",
    "        results = []\n",
    "\n",
    "        for round_ in data[team][\"rounds\"]:\n",
    "\n",
    "            opp = round_[\"opp\"]\n",
    "\n",
    "            res = round_[\"win\"]\n",
    "            if res == True:\n",
    "                res = 1\n",
    "            elif res == False:\n",
    "                res = 0\n",
    "            else:\n",
    "                res = 0.5\n",
    "\n",
    "            results.append(res)\n",
    "\n",
    "        wpm = sum(results)/len(results)\n",
    "\n",
    "        if genders == MALE:\n",
    "            MALES.append(wpm)\n",
    "        elif genders == FEMALE: FEMALES.append(wpm)\n",
    "        else: MIXEDS.append(wpm)\n"
   ]
  },
  {
   "cell_type": "markdown",
   "metadata": {},
   "source": [
    "## Calculate means and WPM at various percentiles"
   ]
  },
  {
   "cell_type": "code",
   "execution_count": 9,
   "metadata": {},
   "outputs": [],
   "source": [
    "analyzeTournaments(generateGenders(data_2019))\n",
    "analyzeTournaments(generateGenders(data_2021))\n",
    "\n",
    "MALE_WPM = round(100*sum(MALES)/len(MALES), 4)\n",
    "FEMALE_WPM = round(100*sum(FEMALES)/len(FEMALES), 3)\n",
    "MIXED_WPM = round(100*sum(MIXEDS)/len(MIXEDS), 4)\n",
    "\n",
    "scoresMALE = np.array(MALES)\n",
    "scoresFEMALE = np.array(FEMALES)\n",
    "scoresMIXED = np.array(MIXEDS)\n",
    "\n",
    "m_5 = 100*round(np.percentile(scoresMALE, 5), 3)\n",
    "f_5 = 100*round(np.percentile(scoresFEMALE, 5), 3)\n",
    "mi_5 = 100*round(np.percentile(scoresMIXED, 5), 3)\n",
    "\n",
    "m_25 = 100*round(np.percentile(scoresMALE, 25), 3)\n",
    "f_25 = 100*round(np.percentile(scoresFEMALE, 25), 3)\n",
    "mi_25 = 100*round(np.percentile(scoresMIXED, 25), 3)\n",
    "\n",
    "m_75 = 100*round(np.percentile(scoresMALE, 75), 3)\n",
    "f_75 = 100*round(np.percentile(scoresFEMALE, 75), 3)\n",
    "mi_75 = 100*round(np.percentile(scoresMIXED, 75), 3)\n",
    "\n",
    "m_95 = 100*round(np.percentile(scoresMALE, 95), 3)\n",
    "f_95 = 100*round(np.percentile(scoresFEMALE, 95), 3)\n",
    "mi_95 = 100*round(np.percentile(scoresMIXED, 95), 3)"
   ]
  },
  {
   "cell_type": "markdown",
   "metadata": {},
   "source": [
    "## Creating statistics string"
   ]
  },
  {
   "cell_type": "code",
   "execution_count": 10,
   "metadata": {},
   "outputs": [],
   "source": [
    "stats = f\"\"\"\n",
    "Dataset Statistics:<br>\n",
    "---<br>\n",
    "Total Number of Teams: {len(list(data_2019.keys())) + len(list(data_2021.keys()))}<br>\n",
    "Total Number of Rounds: {len(MALES) + len(FEMALES) + len(MIXEDS)}<br>\n",
    "Margin of Error: +/- 2%<br>\n",
    "<br>\n",
    "Win Percentages by Gender Group:<br>\n",
    "---<br>\n",
    "All-Male WPM: {MALE_WPM}%<br>\n",
    "All-Female WPM: {FEMALE_WPM}%<br>\n",
    "Mixed WPM: {MIXED_WPM}%<br>\n",
    "<br>\n",
    "Pct. WPM by Gender (5, 25, 75, 95):<br>\n",
    "---<br>\n",
    "Male: {m_5}%, {m_25}%, {m_75}%, {m_95}%<br>\n",
    "Female: {f_5}%, {f_25}%, {f_75}%, {f_95}%<br>\n",
    "Mixed: {mi_5}%, {mi_25}%, {mi_75}%, {mi_95}%<br>\n",
    "\"\"\""
   ]
  },
  {
   "cell_type": "markdown",
   "metadata": {},
   "source": [
    "## Plotting graph with Plotly and printing stats"
   ]
  },
  {
   "cell_type": "code",
   "execution_count": 11,
   "metadata": {},
   "outputs": [
    {
     "data": {
      "application/vnd.plotly.v1+json": {
       "config": {
        "linkText": "Export to plot.ly",
        "plotlyServerURL": "https://plot.ly",
        "showLink": false
       },
       "data": [
        {
         "mode": "markers",
         "name": "Competing All-Male Team",
         "type": "scatter",
         "x": [
          "Male-Male Team",
          "Male-Male Team",
          "Male-Male Team",
          "Male-Male Team",
          "Male-Male Team",
          "Male-Male Team",
          "Male-Male Team",
          "Male-Male Team",
          "Male-Male Team",
          "Male-Male Team",
          "Male-Male Team",
          "Male-Male Team",
          "Male-Male Team",
          "Male-Male Team",
          "Male-Male Team",
          "Male-Male Team",
          "Male-Male Team",
          "Male-Male Team",
          "Male-Male Team",
          "Male-Male Team",
          "Male-Male Team",
          "Male-Male Team"
         ],
         "y": [
          0.7857142857142857,
          0.7222222222222222,
          0.6666666666666666,
          0.6428571428571429,
          0.6428571428571429,
          0.6,
          0.5833333333333334,
          0.6,
          0.5,
          0.4,
          0.4,
          0.4,
          0.2,
          0,
          0.8888888888888888,
          0.6666666666666666,
          0.5833333333333334,
          0.5833333333333334,
          0.5,
          0.5,
          0.3,
          0.3
         ]
        },
        {
         "mode": "markers",
         "name": "Competing All-Female Team",
         "type": "scatter",
         "x": [
          "Female-Female Team",
          "Female-Female Team",
          "Female-Female Team",
          "Female-Female Team",
          "Female-Female Team",
          "Female-Female Team",
          "Female-Female Team",
          "Female-Female Team",
          "Female-Female Team",
          "Female-Female Team",
          "Female-Female Team",
          "Female-Female Team",
          "Female-Female Team",
          "Female-Female Team",
          "Female-Female Team",
          "Female-Female Team",
          "Female-Female Team",
          "Female-Female Team",
          "Female-Female Team",
          "Female-Female Team",
          "Female-Female Team",
          "Female-Female Team",
          "Female-Female Team",
          "Female-Female Team",
          "Female-Female Team",
          "Female-Female Team",
          "Female-Female Team",
          "Female-Female Team",
          "Female-Female Team",
          "Female-Female Team",
          "Female-Female Team",
          "Female-Female Team",
          "Female-Female Team",
          "Female-Female Team",
          "Female-Female Team",
          "Female-Female Team",
          "Female-Female Team"
         ],
         "y": [
          0.875,
          0.5833333333333334,
          0.6,
          0.6,
          0.6,
          0.6,
          0.5,
          0.5,
          0.5,
          0.4,
          0.4,
          0.4,
          0.4,
          0.3,
          0.2,
          0.2,
          0.6666666666666666,
          0.5,
          0.6666666666666666,
          0.6428571428571429,
          0.625,
          0.6,
          0.5,
          0.6,
          0.4,
          0.4,
          0.5,
          0.5,
          0.5,
          0.5,
          0.3,
          0.2,
          0.4,
          0.2,
          0.3,
          0.1,
          0.1
         ]
        },
        {
         "mode": "markers",
         "name": "Competing Male-Female Team",
         "type": "scatter",
         "x": [
          "Male-Female Team",
          "Male-Female Team",
          "Male-Female Team",
          "Male-Female Team",
          "Male-Female Team",
          "Male-Female Team",
          "Male-Female Team",
          "Male-Female Team",
          "Male-Female Team",
          "Male-Female Team",
          "Male-Female Team",
          "Male-Female Team",
          "Male-Female Team",
          "Male-Female Team",
          "Male-Female Team",
          "Male-Female Team",
          "Male-Female Team",
          "Male-Female Team",
          "Male-Female Team",
          "Male-Female Team",
          "Male-Female Team",
          "Male-Female Team",
          "Male-Female Team",
          "Male-Female Team",
          "Male-Female Team",
          "Male-Female Team",
          "Male-Female Team",
          "Male-Female Team",
          "Male-Female Team",
          "Male-Female Team",
          "Male-Female Team",
          "Male-Female Team",
          "Male-Female Team",
          "Male-Female Team",
          "Male-Female Team",
          "Male-Female Team",
          "Male-Female Team",
          "Male-Female Team",
          "Male-Female Team",
          "Male-Female Team",
          "Male-Female Team",
          "Male-Female Team"
         ],
         "y": [
          0.9444444444444444,
          0.8125,
          0.6666666666666666,
          0.7142857142857143,
          0.5833333333333334,
          0.6,
          0.5833333333333334,
          0.5833333333333334,
          0.6,
          0.6,
          0.5,
          0.6,
          0.5,
          0.4,
          0.4,
          0.4,
          0.4,
          0.4,
          0.4,
          0.2,
          0.3,
          0.2,
          0.2,
          0.2,
          0.1,
          0.8888888888888888,
          0.7142857142857143,
          0.75,
          0.6428571428571429,
          0.6875,
          0.7142857142857143,
          0.4,
          0.5,
          0.5,
          0.5,
          0.3,
          0.5,
          0.3,
          0.3,
          0.2,
          0.3,
          0.3
         ]
        }
       ],
       "layout": {
        "annotations": [
         {
          "align": "left",
          "bordercolor": "black",
          "borderwidth": 1,
          "showarrow": false,
          "text": "\nDataset Statistics:<br>\n---<br>\nTotal Number of Teams: 101<br>\nTotal Number of Rounds: 101<br>\nMargin of Error: +/- 2%<br>\n<br>\nWin Percentages by Gender Group:<br>\n---<br>\nAll-Male WPM: 52.1176%<br>\nAll-Female WPM: 45.566%<br>\nMixed WPM: 48.5374%<br>\n<br>\nPct. WPM by Gender (5, 25, 75, 95):<br>\n---<br>\nMale: 20.5%, 40.0%, 64.3%, 78.3%<br>\nFemale: 18.0%, 40.0%, 60.0%, 66.7%<br>\nMixed: 20.0%, 30.0%, 60.0%, 80.9%<br>\n",
          "x": 1.259,
          "xref": "paper",
          "y": -0.2725,
          "yref": "paper"
         }
        ],
        "template": {
         "data": {
          "bar": [
           {
            "error_x": {
             "color": "#2a3f5f"
            },
            "error_y": {
             "color": "#2a3f5f"
            },
            "marker": {
             "line": {
              "color": "#E5ECF6",
              "width": 0.5
             },
             "pattern": {
              "fillmode": "overlay",
              "size": 10,
              "solidity": 0.2
             }
            },
            "type": "bar"
           }
          ],
          "barpolar": [
           {
            "marker": {
             "line": {
              "color": "#E5ECF6",
              "width": 0.5
             },
             "pattern": {
              "fillmode": "overlay",
              "size": 10,
              "solidity": 0.2
             }
            },
            "type": "barpolar"
           }
          ],
          "carpet": [
           {
            "aaxis": {
             "endlinecolor": "#2a3f5f",
             "gridcolor": "white",
             "linecolor": "white",
             "minorgridcolor": "white",
             "startlinecolor": "#2a3f5f"
            },
            "baxis": {
             "endlinecolor": "#2a3f5f",
             "gridcolor": "white",
             "linecolor": "white",
             "minorgridcolor": "white",
             "startlinecolor": "#2a3f5f"
            },
            "type": "carpet"
           }
          ],
          "choropleth": [
           {
            "colorbar": {
             "outlinewidth": 0,
             "ticks": ""
            },
            "type": "choropleth"
           }
          ],
          "contour": [
           {
            "colorbar": {
             "outlinewidth": 0,
             "ticks": ""
            },
            "colorscale": [
             [
              0,
              "#0d0887"
             ],
             [
              0.1111111111111111,
              "#46039f"
             ],
             [
              0.2222222222222222,
              "#7201a8"
             ],
             [
              0.3333333333333333,
              "#9c179e"
             ],
             [
              0.4444444444444444,
              "#bd3786"
             ],
             [
              0.5555555555555556,
              "#d8576b"
             ],
             [
              0.6666666666666666,
              "#ed7953"
             ],
             [
              0.7777777777777778,
              "#fb9f3a"
             ],
             [
              0.8888888888888888,
              "#fdca26"
             ],
             [
              1,
              "#f0f921"
             ]
            ],
            "type": "contour"
           }
          ],
          "contourcarpet": [
           {
            "colorbar": {
             "outlinewidth": 0,
             "ticks": ""
            },
            "type": "contourcarpet"
           }
          ],
          "heatmap": [
           {
            "colorbar": {
             "outlinewidth": 0,
             "ticks": ""
            },
            "colorscale": [
             [
              0,
              "#0d0887"
             ],
             [
              0.1111111111111111,
              "#46039f"
             ],
             [
              0.2222222222222222,
              "#7201a8"
             ],
             [
              0.3333333333333333,
              "#9c179e"
             ],
             [
              0.4444444444444444,
              "#bd3786"
             ],
             [
              0.5555555555555556,
              "#d8576b"
             ],
             [
              0.6666666666666666,
              "#ed7953"
             ],
             [
              0.7777777777777778,
              "#fb9f3a"
             ],
             [
              0.8888888888888888,
              "#fdca26"
             ],
             [
              1,
              "#f0f921"
             ]
            ],
            "type": "heatmap"
           }
          ],
          "heatmapgl": [
           {
            "colorbar": {
             "outlinewidth": 0,
             "ticks": ""
            },
            "colorscale": [
             [
              0,
              "#0d0887"
             ],
             [
              0.1111111111111111,
              "#46039f"
             ],
             [
              0.2222222222222222,
              "#7201a8"
             ],
             [
              0.3333333333333333,
              "#9c179e"
             ],
             [
              0.4444444444444444,
              "#bd3786"
             ],
             [
              0.5555555555555556,
              "#d8576b"
             ],
             [
              0.6666666666666666,
              "#ed7953"
             ],
             [
              0.7777777777777778,
              "#fb9f3a"
             ],
             [
              0.8888888888888888,
              "#fdca26"
             ],
             [
              1,
              "#f0f921"
             ]
            ],
            "type": "heatmapgl"
           }
          ],
          "histogram": [
           {
            "marker": {
             "pattern": {
              "fillmode": "overlay",
              "size": 10,
              "solidity": 0.2
             }
            },
            "type": "histogram"
           }
          ],
          "histogram2d": [
           {
            "colorbar": {
             "outlinewidth": 0,
             "ticks": ""
            },
            "colorscale": [
             [
              0,
              "#0d0887"
             ],
             [
              0.1111111111111111,
              "#46039f"
             ],
             [
              0.2222222222222222,
              "#7201a8"
             ],
             [
              0.3333333333333333,
              "#9c179e"
             ],
             [
              0.4444444444444444,
              "#bd3786"
             ],
             [
              0.5555555555555556,
              "#d8576b"
             ],
             [
              0.6666666666666666,
              "#ed7953"
             ],
             [
              0.7777777777777778,
              "#fb9f3a"
             ],
             [
              0.8888888888888888,
              "#fdca26"
             ],
             [
              1,
              "#f0f921"
             ]
            ],
            "type": "histogram2d"
           }
          ],
          "histogram2dcontour": [
           {
            "colorbar": {
             "outlinewidth": 0,
             "ticks": ""
            },
            "colorscale": [
             [
              0,
              "#0d0887"
             ],
             [
              0.1111111111111111,
              "#46039f"
             ],
             [
              0.2222222222222222,
              "#7201a8"
             ],
             [
              0.3333333333333333,
              "#9c179e"
             ],
             [
              0.4444444444444444,
              "#bd3786"
             ],
             [
              0.5555555555555556,
              "#d8576b"
             ],
             [
              0.6666666666666666,
              "#ed7953"
             ],
             [
              0.7777777777777778,
              "#fb9f3a"
             ],
             [
              0.8888888888888888,
              "#fdca26"
             ],
             [
              1,
              "#f0f921"
             ]
            ],
            "type": "histogram2dcontour"
           }
          ],
          "mesh3d": [
           {
            "colorbar": {
             "outlinewidth": 0,
             "ticks": ""
            },
            "type": "mesh3d"
           }
          ],
          "parcoords": [
           {
            "line": {
             "colorbar": {
              "outlinewidth": 0,
              "ticks": ""
             }
            },
            "type": "parcoords"
           }
          ],
          "pie": [
           {
            "automargin": true,
            "type": "pie"
           }
          ],
          "scatter": [
           {
            "marker": {
             "colorbar": {
              "outlinewidth": 0,
              "ticks": ""
             }
            },
            "type": "scatter"
           }
          ],
          "scatter3d": [
           {
            "line": {
             "colorbar": {
              "outlinewidth": 0,
              "ticks": ""
             }
            },
            "marker": {
             "colorbar": {
              "outlinewidth": 0,
              "ticks": ""
             }
            },
            "type": "scatter3d"
           }
          ],
          "scattercarpet": [
           {
            "marker": {
             "colorbar": {
              "outlinewidth": 0,
              "ticks": ""
             }
            },
            "type": "scattercarpet"
           }
          ],
          "scattergeo": [
           {
            "marker": {
             "colorbar": {
              "outlinewidth": 0,
              "ticks": ""
             }
            },
            "type": "scattergeo"
           }
          ],
          "scattergl": [
           {
            "marker": {
             "colorbar": {
              "outlinewidth": 0,
              "ticks": ""
             }
            },
            "type": "scattergl"
           }
          ],
          "scattermapbox": [
           {
            "marker": {
             "colorbar": {
              "outlinewidth": 0,
              "ticks": ""
             }
            },
            "type": "scattermapbox"
           }
          ],
          "scatterpolar": [
           {
            "marker": {
             "colorbar": {
              "outlinewidth": 0,
              "ticks": ""
             }
            },
            "type": "scatterpolar"
           }
          ],
          "scatterpolargl": [
           {
            "marker": {
             "colorbar": {
              "outlinewidth": 0,
              "ticks": ""
             }
            },
            "type": "scatterpolargl"
           }
          ],
          "scatterternary": [
           {
            "marker": {
             "colorbar": {
              "outlinewidth": 0,
              "ticks": ""
             }
            },
            "type": "scatterternary"
           }
          ],
          "surface": [
           {
            "colorbar": {
             "outlinewidth": 0,
             "ticks": ""
            },
            "colorscale": [
             [
              0,
              "#0d0887"
             ],
             [
              0.1111111111111111,
              "#46039f"
             ],
             [
              0.2222222222222222,
              "#7201a8"
             ],
             [
              0.3333333333333333,
              "#9c179e"
             ],
             [
              0.4444444444444444,
              "#bd3786"
             ],
             [
              0.5555555555555556,
              "#d8576b"
             ],
             [
              0.6666666666666666,
              "#ed7953"
             ],
             [
              0.7777777777777778,
              "#fb9f3a"
             ],
             [
              0.8888888888888888,
              "#fdca26"
             ],
             [
              1,
              "#f0f921"
             ]
            ],
            "type": "surface"
           }
          ],
          "table": [
           {
            "cells": {
             "fill": {
              "color": "#EBF0F8"
             },
             "line": {
              "color": "white"
             }
            },
            "header": {
             "fill": {
              "color": "#C8D4E3"
             },
             "line": {
              "color": "white"
             }
            },
            "type": "table"
           }
          ]
         },
         "layout": {
          "annotationdefaults": {
           "arrowcolor": "#2a3f5f",
           "arrowhead": 0,
           "arrowwidth": 1
          },
          "autotypenumbers": "strict",
          "coloraxis": {
           "colorbar": {
            "outlinewidth": 0,
            "ticks": ""
           }
          },
          "colorscale": {
           "diverging": [
            [
             0,
             "#8e0152"
            ],
            [
             0.1,
             "#c51b7d"
            ],
            [
             0.2,
             "#de77ae"
            ],
            [
             0.3,
             "#f1b6da"
            ],
            [
             0.4,
             "#fde0ef"
            ],
            [
             0.5,
             "#f7f7f7"
            ],
            [
             0.6,
             "#e6f5d0"
            ],
            [
             0.7,
             "#b8e186"
            ],
            [
             0.8,
             "#7fbc41"
            ],
            [
             0.9,
             "#4d9221"
            ],
            [
             1,
             "#276419"
            ]
           ],
           "sequential": [
            [
             0,
             "#0d0887"
            ],
            [
             0.1111111111111111,
             "#46039f"
            ],
            [
             0.2222222222222222,
             "#7201a8"
            ],
            [
             0.3333333333333333,
             "#9c179e"
            ],
            [
             0.4444444444444444,
             "#bd3786"
            ],
            [
             0.5555555555555556,
             "#d8576b"
            ],
            [
             0.6666666666666666,
             "#ed7953"
            ],
            [
             0.7777777777777778,
             "#fb9f3a"
            ],
            [
             0.8888888888888888,
             "#fdca26"
            ],
            [
             1,
             "#f0f921"
            ]
           ],
           "sequentialminus": [
            [
             0,
             "#0d0887"
            ],
            [
             0.1111111111111111,
             "#46039f"
            ],
            [
             0.2222222222222222,
             "#7201a8"
            ],
            [
             0.3333333333333333,
             "#9c179e"
            ],
            [
             0.4444444444444444,
             "#bd3786"
            ],
            [
             0.5555555555555556,
             "#d8576b"
            ],
            [
             0.6666666666666666,
             "#ed7953"
            ],
            [
             0.7777777777777778,
             "#fb9f3a"
            ],
            [
             0.8888888888888888,
             "#fdca26"
            ],
            [
             1,
             "#f0f921"
            ]
           ]
          },
          "colorway": [
           "#636efa",
           "#EF553B",
           "#00cc96",
           "#ab63fa",
           "#FFA15A",
           "#19d3f3",
           "#FF6692",
           "#B6E880",
           "#FF97FF",
           "#FECB52"
          ],
          "font": {
           "color": "#2a3f5f"
          },
          "geo": {
           "bgcolor": "white",
           "lakecolor": "white",
           "landcolor": "#E5ECF6",
           "showlakes": true,
           "showland": true,
           "subunitcolor": "white"
          },
          "hoverlabel": {
           "align": "left"
          },
          "hovermode": "closest",
          "mapbox": {
           "style": "light"
          },
          "paper_bgcolor": "white",
          "plot_bgcolor": "#E5ECF6",
          "polar": {
           "angularaxis": {
            "gridcolor": "white",
            "linecolor": "white",
            "ticks": ""
           },
           "bgcolor": "#E5ECF6",
           "radialaxis": {
            "gridcolor": "white",
            "linecolor": "white",
            "ticks": ""
           }
          },
          "scene": {
           "xaxis": {
            "backgroundcolor": "#E5ECF6",
            "gridcolor": "white",
            "gridwidth": 2,
            "linecolor": "white",
            "showbackground": true,
            "ticks": "",
            "zerolinecolor": "white"
           },
           "yaxis": {
            "backgroundcolor": "#E5ECF6",
            "gridcolor": "white",
            "gridwidth": 2,
            "linecolor": "white",
            "showbackground": true,
            "ticks": "",
            "zerolinecolor": "white"
           },
           "zaxis": {
            "backgroundcolor": "#E5ECF6",
            "gridcolor": "white",
            "gridwidth": 2,
            "linecolor": "white",
            "showbackground": true,
            "ticks": "",
            "zerolinecolor": "white"
           }
          },
          "shapedefaults": {
           "line": {
            "color": "#2a3f5f"
           }
          },
          "ternary": {
           "aaxis": {
            "gridcolor": "white",
            "linecolor": "white",
            "ticks": ""
           },
           "baxis": {
            "gridcolor": "white",
            "linecolor": "white",
            "ticks": ""
           },
           "bgcolor": "#E5ECF6",
           "caxis": {
            "gridcolor": "white",
            "linecolor": "white",
            "ticks": ""
           }
          },
          "title": {
           "x": 0.05
          },
          "xaxis": {
           "automargin": true,
           "gridcolor": "white",
           "linecolor": "white",
           "ticks": "",
           "title": {
            "standoff": 15
           },
           "zerolinecolor": "white",
           "zerolinewidth": 2
          },
          "yaxis": {
           "automargin": true,
           "gridcolor": "white",
           "linecolor": "white",
           "ticks": "",
           "title": {
            "standoff": 15
           },
           "zerolinecolor": "white",
           "zerolinewidth": 2
          }
         }
        },
        "title": {
         "text": "Gender vs. Mean Win Percentage: IHSA State (2019 & 2021)"
        },
        "xaxis": {
         "title": {
          "text": "Gender"
         }
        },
        "yaxis": {
         "title": {
          "text": "Mean Win Percentage"
         }
        }
       }
      },
      "text/html": [
       "<div>                            <div id=\"2e3b62d2-8c18-4c77-8862-651a7c46d4c1\" class=\"plotly-graph-div\" style=\"height:525px; width:100%;\"></div>            <script type=\"text/javascript\">                require([\"plotly\"], function(Plotly) {                    window.PLOTLYENV=window.PLOTLYENV || {};                                    if (document.getElementById(\"2e3b62d2-8c18-4c77-8862-651a7c46d4c1\")) {                    Plotly.newPlot(                        \"2e3b62d2-8c18-4c77-8862-651a7c46d4c1\",                        [{\"mode\":\"markers\",\"name\":\"Competing All-Male Team\",\"x\":[\"Male-Male Team\",\"Male-Male Team\",\"Male-Male Team\",\"Male-Male Team\",\"Male-Male Team\",\"Male-Male Team\",\"Male-Male Team\",\"Male-Male Team\",\"Male-Male Team\",\"Male-Male Team\",\"Male-Male Team\",\"Male-Male Team\",\"Male-Male Team\",\"Male-Male Team\",\"Male-Male Team\",\"Male-Male Team\",\"Male-Male Team\",\"Male-Male Team\",\"Male-Male Team\",\"Male-Male Team\",\"Male-Male Team\",\"Male-Male Team\"],\"y\":[0.7857142857142857,0.7222222222222222,0.6666666666666666,0.6428571428571429,0.6428571428571429,0.6,0.5833333333333334,0.6,0.5,0.4,0.4,0.4,0.2,0.0,0.8888888888888888,0.6666666666666666,0.5833333333333334,0.5833333333333334,0.5,0.5,0.3,0.3],\"type\":\"scatter\"},{\"mode\":\"markers\",\"name\":\"Competing All-Female Team\",\"x\":[\"Female-Female Team\",\"Female-Female Team\",\"Female-Female Team\",\"Female-Female Team\",\"Female-Female Team\",\"Female-Female Team\",\"Female-Female Team\",\"Female-Female Team\",\"Female-Female Team\",\"Female-Female Team\",\"Female-Female Team\",\"Female-Female Team\",\"Female-Female Team\",\"Female-Female Team\",\"Female-Female Team\",\"Female-Female Team\",\"Female-Female Team\",\"Female-Female Team\",\"Female-Female Team\",\"Female-Female Team\",\"Female-Female Team\",\"Female-Female Team\",\"Female-Female Team\",\"Female-Female Team\",\"Female-Female Team\",\"Female-Female Team\",\"Female-Female Team\",\"Female-Female Team\",\"Female-Female Team\",\"Female-Female Team\",\"Female-Female Team\",\"Female-Female Team\",\"Female-Female Team\",\"Female-Female Team\",\"Female-Female Team\",\"Female-Female Team\",\"Female-Female Team\"],\"y\":[0.875,0.5833333333333334,0.6,0.6,0.6,0.6,0.5,0.5,0.5,0.4,0.4,0.4,0.4,0.3,0.2,0.2,0.6666666666666666,0.5,0.6666666666666666,0.6428571428571429,0.625,0.6,0.5,0.6,0.4,0.4,0.5,0.5,0.5,0.5,0.3,0.2,0.4,0.2,0.3,0.1,0.1],\"type\":\"scatter\"},{\"mode\":\"markers\",\"name\":\"Competing Male-Female Team\",\"x\":[\"Male-Female Team\",\"Male-Female Team\",\"Male-Female Team\",\"Male-Female Team\",\"Male-Female Team\",\"Male-Female Team\",\"Male-Female Team\",\"Male-Female Team\",\"Male-Female Team\",\"Male-Female Team\",\"Male-Female Team\",\"Male-Female Team\",\"Male-Female Team\",\"Male-Female Team\",\"Male-Female Team\",\"Male-Female Team\",\"Male-Female Team\",\"Male-Female Team\",\"Male-Female Team\",\"Male-Female Team\",\"Male-Female Team\",\"Male-Female Team\",\"Male-Female Team\",\"Male-Female Team\",\"Male-Female Team\",\"Male-Female Team\",\"Male-Female Team\",\"Male-Female Team\",\"Male-Female Team\",\"Male-Female Team\",\"Male-Female Team\",\"Male-Female Team\",\"Male-Female Team\",\"Male-Female Team\",\"Male-Female Team\",\"Male-Female Team\",\"Male-Female Team\",\"Male-Female Team\",\"Male-Female Team\",\"Male-Female Team\",\"Male-Female Team\",\"Male-Female Team\"],\"y\":[0.9444444444444444,0.8125,0.6666666666666666,0.7142857142857143,0.5833333333333334,0.6,0.5833333333333334,0.5833333333333334,0.6,0.6,0.5,0.6,0.5,0.4,0.4,0.4,0.4,0.4,0.4,0.2,0.3,0.2,0.2,0.2,0.1,0.8888888888888888,0.7142857142857143,0.75,0.6428571428571429,0.6875,0.7142857142857143,0.4,0.5,0.5,0.5,0.3,0.5,0.3,0.3,0.2,0.3,0.3],\"type\":\"scatter\"}],                        {\"annotations\":[{\"align\":\"left\",\"bordercolor\":\"black\",\"borderwidth\":1,\"showarrow\":false,\"text\":\"\\nDataset Statistics:<br>\\n---<br>\\nTotal Number of Teams: 101<br>\\nTotal Number of Rounds: 101<br>\\nMargin of Error: +/- 2%<br>\\n<br>\\nWin Percentages by Gender Group:<br>\\n---<br>\\nAll-Male WPM: 52.1176%<br>\\nAll-Female WPM: 45.566%<br>\\nMixed WPM: 48.5374%<br>\\n<br>\\nPct. WPM by Gender (5, 25, 75, 95):<br>\\n---<br>\\nMale: 20.5%, 40.0%, 64.3%, 78.3%<br>\\nFemale: 18.0%, 40.0%, 60.0%, 66.7%<br>\\nMixed: 20.0%, 30.0%, 60.0%, 80.9%<br>\\n\",\"x\":1.259,\"xref\":\"paper\",\"y\":-0.2725,\"yref\":\"paper\"}],\"template\":{\"data\":{\"barpolar\":[{\"marker\":{\"line\":{\"color\":\"#E5ECF6\",\"width\":0.5},\"pattern\":{\"fillmode\":\"overlay\",\"size\":10,\"solidity\":0.2}},\"type\":\"barpolar\"}],\"bar\":[{\"error_x\":{\"color\":\"#2a3f5f\"},\"error_y\":{\"color\":\"#2a3f5f\"},\"marker\":{\"line\":{\"color\":\"#E5ECF6\",\"width\":0.5},\"pattern\":{\"fillmode\":\"overlay\",\"size\":10,\"solidity\":0.2}},\"type\":\"bar\"}],\"carpet\":[{\"aaxis\":{\"endlinecolor\":\"#2a3f5f\",\"gridcolor\":\"white\",\"linecolor\":\"white\",\"minorgridcolor\":\"white\",\"startlinecolor\":\"#2a3f5f\"},\"baxis\":{\"endlinecolor\":\"#2a3f5f\",\"gridcolor\":\"white\",\"linecolor\":\"white\",\"minorgridcolor\":\"white\",\"startlinecolor\":\"#2a3f5f\"},\"type\":\"carpet\"}],\"choropleth\":[{\"colorbar\":{\"outlinewidth\":0,\"ticks\":\"\"},\"type\":\"choropleth\"}],\"contourcarpet\":[{\"colorbar\":{\"outlinewidth\":0,\"ticks\":\"\"},\"type\":\"contourcarpet\"}],\"contour\":[{\"colorbar\":{\"outlinewidth\":0,\"ticks\":\"\"},\"colorscale\":[[0.0,\"#0d0887\"],[0.1111111111111111,\"#46039f\"],[0.2222222222222222,\"#7201a8\"],[0.3333333333333333,\"#9c179e\"],[0.4444444444444444,\"#bd3786\"],[0.5555555555555556,\"#d8576b\"],[0.6666666666666666,\"#ed7953\"],[0.7777777777777778,\"#fb9f3a\"],[0.8888888888888888,\"#fdca26\"],[1.0,\"#f0f921\"]],\"type\":\"contour\"}],\"heatmapgl\":[{\"colorbar\":{\"outlinewidth\":0,\"ticks\":\"\"},\"colorscale\":[[0.0,\"#0d0887\"],[0.1111111111111111,\"#46039f\"],[0.2222222222222222,\"#7201a8\"],[0.3333333333333333,\"#9c179e\"],[0.4444444444444444,\"#bd3786\"],[0.5555555555555556,\"#d8576b\"],[0.6666666666666666,\"#ed7953\"],[0.7777777777777778,\"#fb9f3a\"],[0.8888888888888888,\"#fdca26\"],[1.0,\"#f0f921\"]],\"type\":\"heatmapgl\"}],\"heatmap\":[{\"colorbar\":{\"outlinewidth\":0,\"ticks\":\"\"},\"colorscale\":[[0.0,\"#0d0887\"],[0.1111111111111111,\"#46039f\"],[0.2222222222222222,\"#7201a8\"],[0.3333333333333333,\"#9c179e\"],[0.4444444444444444,\"#bd3786\"],[0.5555555555555556,\"#d8576b\"],[0.6666666666666666,\"#ed7953\"],[0.7777777777777778,\"#fb9f3a\"],[0.8888888888888888,\"#fdca26\"],[1.0,\"#f0f921\"]],\"type\":\"heatmap\"}],\"histogram2dcontour\":[{\"colorbar\":{\"outlinewidth\":0,\"ticks\":\"\"},\"colorscale\":[[0.0,\"#0d0887\"],[0.1111111111111111,\"#46039f\"],[0.2222222222222222,\"#7201a8\"],[0.3333333333333333,\"#9c179e\"],[0.4444444444444444,\"#bd3786\"],[0.5555555555555556,\"#d8576b\"],[0.6666666666666666,\"#ed7953\"],[0.7777777777777778,\"#fb9f3a\"],[0.8888888888888888,\"#fdca26\"],[1.0,\"#f0f921\"]],\"type\":\"histogram2dcontour\"}],\"histogram2d\":[{\"colorbar\":{\"outlinewidth\":0,\"ticks\":\"\"},\"colorscale\":[[0.0,\"#0d0887\"],[0.1111111111111111,\"#46039f\"],[0.2222222222222222,\"#7201a8\"],[0.3333333333333333,\"#9c179e\"],[0.4444444444444444,\"#bd3786\"],[0.5555555555555556,\"#d8576b\"],[0.6666666666666666,\"#ed7953\"],[0.7777777777777778,\"#fb9f3a\"],[0.8888888888888888,\"#fdca26\"],[1.0,\"#f0f921\"]],\"type\":\"histogram2d\"}],\"histogram\":[{\"marker\":{\"pattern\":{\"fillmode\":\"overlay\",\"size\":10,\"solidity\":0.2}},\"type\":\"histogram\"}],\"mesh3d\":[{\"colorbar\":{\"outlinewidth\":0,\"ticks\":\"\"},\"type\":\"mesh3d\"}],\"parcoords\":[{\"line\":{\"colorbar\":{\"outlinewidth\":0,\"ticks\":\"\"}},\"type\":\"parcoords\"}],\"pie\":[{\"automargin\":true,\"type\":\"pie\"}],\"scatter3d\":[{\"line\":{\"colorbar\":{\"outlinewidth\":0,\"ticks\":\"\"}},\"marker\":{\"colorbar\":{\"outlinewidth\":0,\"ticks\":\"\"}},\"type\":\"scatter3d\"}],\"scattercarpet\":[{\"marker\":{\"colorbar\":{\"outlinewidth\":0,\"ticks\":\"\"}},\"type\":\"scattercarpet\"}],\"scattergeo\":[{\"marker\":{\"colorbar\":{\"outlinewidth\":0,\"ticks\":\"\"}},\"type\":\"scattergeo\"}],\"scattergl\":[{\"marker\":{\"colorbar\":{\"outlinewidth\":0,\"ticks\":\"\"}},\"type\":\"scattergl\"}],\"scattermapbox\":[{\"marker\":{\"colorbar\":{\"outlinewidth\":0,\"ticks\":\"\"}},\"type\":\"scattermapbox\"}],\"scatterpolargl\":[{\"marker\":{\"colorbar\":{\"outlinewidth\":0,\"ticks\":\"\"}},\"type\":\"scatterpolargl\"}],\"scatterpolar\":[{\"marker\":{\"colorbar\":{\"outlinewidth\":0,\"ticks\":\"\"}},\"type\":\"scatterpolar\"}],\"scatter\":[{\"marker\":{\"colorbar\":{\"outlinewidth\":0,\"ticks\":\"\"}},\"type\":\"scatter\"}],\"scatterternary\":[{\"marker\":{\"colorbar\":{\"outlinewidth\":0,\"ticks\":\"\"}},\"type\":\"scatterternary\"}],\"surface\":[{\"colorbar\":{\"outlinewidth\":0,\"ticks\":\"\"},\"colorscale\":[[0.0,\"#0d0887\"],[0.1111111111111111,\"#46039f\"],[0.2222222222222222,\"#7201a8\"],[0.3333333333333333,\"#9c179e\"],[0.4444444444444444,\"#bd3786\"],[0.5555555555555556,\"#d8576b\"],[0.6666666666666666,\"#ed7953\"],[0.7777777777777778,\"#fb9f3a\"],[0.8888888888888888,\"#fdca26\"],[1.0,\"#f0f921\"]],\"type\":\"surface\"}],\"table\":[{\"cells\":{\"fill\":{\"color\":\"#EBF0F8\"},\"line\":{\"color\":\"white\"}},\"header\":{\"fill\":{\"color\":\"#C8D4E3\"},\"line\":{\"color\":\"white\"}},\"type\":\"table\"}]},\"layout\":{\"annotationdefaults\":{\"arrowcolor\":\"#2a3f5f\",\"arrowhead\":0,\"arrowwidth\":1},\"autotypenumbers\":\"strict\",\"coloraxis\":{\"colorbar\":{\"outlinewidth\":0,\"ticks\":\"\"}},\"colorscale\":{\"diverging\":[[0,\"#8e0152\"],[0.1,\"#c51b7d\"],[0.2,\"#de77ae\"],[0.3,\"#f1b6da\"],[0.4,\"#fde0ef\"],[0.5,\"#f7f7f7\"],[0.6,\"#e6f5d0\"],[0.7,\"#b8e186\"],[0.8,\"#7fbc41\"],[0.9,\"#4d9221\"],[1,\"#276419\"]],\"sequential\":[[0.0,\"#0d0887\"],[0.1111111111111111,\"#46039f\"],[0.2222222222222222,\"#7201a8\"],[0.3333333333333333,\"#9c179e\"],[0.4444444444444444,\"#bd3786\"],[0.5555555555555556,\"#d8576b\"],[0.6666666666666666,\"#ed7953\"],[0.7777777777777778,\"#fb9f3a\"],[0.8888888888888888,\"#fdca26\"],[1.0,\"#f0f921\"]],\"sequentialminus\":[[0.0,\"#0d0887\"],[0.1111111111111111,\"#46039f\"],[0.2222222222222222,\"#7201a8\"],[0.3333333333333333,\"#9c179e\"],[0.4444444444444444,\"#bd3786\"],[0.5555555555555556,\"#d8576b\"],[0.6666666666666666,\"#ed7953\"],[0.7777777777777778,\"#fb9f3a\"],[0.8888888888888888,\"#fdca26\"],[1.0,\"#f0f921\"]]},\"colorway\":[\"#636efa\",\"#EF553B\",\"#00cc96\",\"#ab63fa\",\"#FFA15A\",\"#19d3f3\",\"#FF6692\",\"#B6E880\",\"#FF97FF\",\"#FECB52\"],\"font\":{\"color\":\"#2a3f5f\"},\"geo\":{\"bgcolor\":\"white\",\"lakecolor\":\"white\",\"landcolor\":\"#E5ECF6\",\"showlakes\":true,\"showland\":true,\"subunitcolor\":\"white\"},\"hoverlabel\":{\"align\":\"left\"},\"hovermode\":\"closest\",\"mapbox\":{\"style\":\"light\"},\"paper_bgcolor\":\"white\",\"plot_bgcolor\":\"#E5ECF6\",\"polar\":{\"angularaxis\":{\"gridcolor\":\"white\",\"linecolor\":\"white\",\"ticks\":\"\"},\"bgcolor\":\"#E5ECF6\",\"radialaxis\":{\"gridcolor\":\"white\",\"linecolor\":\"white\",\"ticks\":\"\"}},\"scene\":{\"xaxis\":{\"backgroundcolor\":\"#E5ECF6\",\"gridcolor\":\"white\",\"gridwidth\":2,\"linecolor\":\"white\",\"showbackground\":true,\"ticks\":\"\",\"zerolinecolor\":\"white\"},\"yaxis\":{\"backgroundcolor\":\"#E5ECF6\",\"gridcolor\":\"white\",\"gridwidth\":2,\"linecolor\":\"white\",\"showbackground\":true,\"ticks\":\"\",\"zerolinecolor\":\"white\"},\"zaxis\":{\"backgroundcolor\":\"#E5ECF6\",\"gridcolor\":\"white\",\"gridwidth\":2,\"linecolor\":\"white\",\"showbackground\":true,\"ticks\":\"\",\"zerolinecolor\":\"white\"}},\"shapedefaults\":{\"line\":{\"color\":\"#2a3f5f\"}},\"ternary\":{\"aaxis\":{\"gridcolor\":\"white\",\"linecolor\":\"white\",\"ticks\":\"\"},\"baxis\":{\"gridcolor\":\"white\",\"linecolor\":\"white\",\"ticks\":\"\"},\"bgcolor\":\"#E5ECF6\",\"caxis\":{\"gridcolor\":\"white\",\"linecolor\":\"white\",\"ticks\":\"\"}},\"title\":{\"x\":0.05},\"xaxis\":{\"automargin\":true,\"gridcolor\":\"white\",\"linecolor\":\"white\",\"ticks\":\"\",\"title\":{\"standoff\":15},\"zerolinecolor\":\"white\",\"zerolinewidth\":2},\"yaxis\":{\"automargin\":true,\"gridcolor\":\"white\",\"linecolor\":\"white\",\"ticks\":\"\",\"title\":{\"standoff\":15},\"zerolinecolor\":\"white\",\"zerolinewidth\":2}}},\"title\":{\"text\":\"Gender vs. Mean Win Percentage: IHSA State (2019 & 2021)\"},\"xaxis\":{\"title\":{\"text\":\"Gender\"}},\"yaxis\":{\"title\":{\"text\":\"Mean Win Percentage\"}}},                        {\"responsive\": true}                    ).then(function(){\n",
       "                            \n",
       "var gd = document.getElementById('2e3b62d2-8c18-4c77-8862-651a7c46d4c1');\n",
       "var x = new MutationObserver(function (mutations, observer) {{\n",
       "        var display = window.getComputedStyle(gd).display;\n",
       "        if (!display || display === 'none') {{\n",
       "            console.log([gd, 'removed!']);\n",
       "            Plotly.purge(gd);\n",
       "            observer.disconnect();\n",
       "        }}\n",
       "}});\n",
       "\n",
       "// Listen for the removal of the full notebook cells\n",
       "var notebookContainer = gd.closest('#notebook-container');\n",
       "if (notebookContainer) {{\n",
       "    x.observe(notebookContainer, {childList: true});\n",
       "}}\n",
       "\n",
       "// Listen for the clearing of the current output cell\n",
       "var outputEl = gd.closest('.output');\n",
       "if (outputEl) {{\n",
       "    x.observe(outputEl, {childList: true});\n",
       "}}\n",
       "\n",
       "                        })                };                });            </script>        </div>"
      ]
     },
     "metadata": {},
     "output_type": "display_data"
    }
   ],
   "source": [
    "layout = go.Layout(\n",
    "    title = \"Gender vs. Mean Win Percentage: IHSA State (2019 & 2021)\",\n",
    "    xaxis = {\"title\": \"Gender\"},\n",
    "    yaxis = {\"title\": \"Mean Win Percentage\"},\n",
    "    annotations=[\n",
    "            go.layout.Annotation(\n",
    "                text=stats,\n",
    "                align='left',\n",
    "                showarrow=False,\n",
    "                xref='paper',\n",
    "                yref='paper',\n",
    "                x=1.259,\n",
    "                y=-.2725,\n",
    "                bordercolor='black',\n",
    "                borderwidth=1\n",
    "            )\n",
    "        ]\n",
    ")\n",
    "\n",
    "fig = go.Figure(layout=layout)\n",
    "\n",
    "fig.add_trace(go.Scatter(\n",
    "    x = [\"Male-Male Team\"] * len(MALES),\n",
    "    y = MALES,\n",
    "    mode = 'markers',\n",
    "    name = \"Competing All-Male Team\"\n",
    "));\n",
    "\n",
    "fig.add_trace(go.Scatter(\n",
    "    x = [\"Female-Female Team\"] * len(FEMALES),\n",
    "    y = FEMALES,\n",
    "    mode = 'markers',\n",
    "    name = \"Competing All-Female Team\"\n",
    "));\n",
    "\n",
    "fig.add_trace(go.Scatter(\n",
    "    x = [\"Male-Female Team\"] * len(MIXEDS),\n",
    "    y = MIXEDS,\n",
    "    mode = 'markers',\n",
    "    name = \"Competing Male-Female Team\"\n",
    "));\n",
    "\n",
    "\n",
    "iplot(fig)"
   ]
  },
  {
   "cell_type": "code",
   "execution_count": null,
   "metadata": {},
   "outputs": [],
   "source": []
  }
 ],
 "metadata": {
  "interpreter": {
   "hash": "9749131b6480fea290d6e6f0e19420b4e47c3fb9ced726a0f27a11e9b14a5881"
  },
  "kernelspec": {
   "display_name": "Python 3.8.9 64-bit ('env': venv)",
   "language": "python",
   "name": "python3"
  },
  "language_info": {
   "codemirror_mode": {
    "name": "ipython",
    "version": 3
   },
   "file_extension": ".py",
   "mimetype": "text/x-python",
   "name": "python",
   "nbconvert_exporter": "python",
   "pygments_lexer": "ipython3",
   "version": "3.8.9"
  },
  "orig_nbformat": 4
 },
 "nbformat": 4,
 "nbformat_minor": 2
}
